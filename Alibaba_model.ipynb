{
  "nbformat": 4,
  "nbformat_minor": 0,
  "metadata": {
    "colab": {
      "provenance": [],
      "gpuType": "T4"
    },
    "kernelspec": {
      "name": "python3",
      "display_name": "Python 3"
    },
    "language_info": {
      "name": "python"
    },
    "accelerator": "GPU"
  },
  "cells": [
    {
      "cell_type": "code",
      "source": [
        "#https://huggingface.co/docs/transformers/en/model_doc/mgp-str"
      ],
      "metadata": {
        "id": "qCUn1m6khiBi"
      },
      "execution_count": null,
      "outputs": []
    },
    {
      "cell_type": "code",
      "execution_count": null,
      "metadata": {
        "id": "H-FQzU__NdQ9"
      },
      "outputs": [],
      "source": [
        "! pip install transformers torch"
      ]
    },
    {
      "cell_type": "code",
      "source": [
        "from transformers import MgpstrProcessor, MgpstrForSceneTextRecognition\n",
        "import requests\n",
        "from PIL import Image\n",
        "import matplotlib.pyplot as plt"
      ],
      "metadata": {
        "id": "IzVis99XXLOo"
      },
      "execution_count": 29,
      "outputs": []
    },
    {
      "cell_type": "code",
      "source": [
        "processor = MgpstrProcessor.from_pretrained('alibaba-damo/mgp-str-base')\n",
        "model = MgpstrForSceneTextRecognition.from_pretrained('alibaba-damo/mgp-str-base')"
      ],
      "metadata": {
        "id": "n9TJvBgTXN16"
      },
      "execution_count": null,
      "outputs": []
    },
    {
      "cell_type": "code",
      "source": [
        "# load image from the IIIT-5k dataset\n",
        "url = \"https://i.postimg.cc/ZKwLg2Gw/367-14.png\"\n",
        "image = Image.open(requests.get(url, stream=True).raw).convert(\"RGB\")\n",
        "#image =Image.open(url).convert(\"RGB\")\n",
        "pixel_values = processor(images=image, return_tensors=\"pt\").pixel_values\n",
        "outputs = model(pixel_values)"
      ],
      "metadata": {
        "id": "nRNkGXkkXQW2"
      },
      "execution_count": 43,
      "outputs": []
    },
    {
      "cell_type": "code",
      "source": [
        "# Display the image\n",
        "plt.imshow(image)\n",
        "plt.axis('off')\n",
        "plt.show()"
      ],
      "metadata": {
        "colab": {
          "base_uri": "https://localhost:8080/",
          "height": 205
        },
        "id": "9Dq3O8LsXnYq",
        "outputId": "cef99283-cf58-4084-8e31-818d4c23bf95"
      },
      "execution_count": 44,
      "outputs": [
        {
          "output_type": "display_data",
          "data": {
            "text/plain": [
              "<Figure size 640x480 with 1 Axes>"
            ],
            "image/png": "[encoded data removed]"
          },
          "metadata": {}
        }
      ]
    },
    {
      "cell_type": "code",
      "source": [
        "generated_text = processor.batch_decode(outputs.logits)"
      ],
      "metadata": {
        "id": "3Jrb-a53XU7k"
      },
      "execution_count": 45,
      "outputs": []
    },
    {
      "cell_type": "code",
      "source": [
        "generated_text"
      ],
      "metadata": {
        "colab": {
          "base_uri": "https://localhost:8080/"
        },
        "id": "03OE6rjYXhgl",
        "outputId": "ed303dc8-5390-4a77-b430-48117927f4dc"
      },
      "execution_count": 46,
      "outputs": [
        {
          "output_type": "execute_result",
          "data": {
            "text/plain": [
              "{'generated_text': ['ticket'],\n",
              " 'scores': [tensor(0.9999, grad_fn=<SelectBackward0>)],\n",
              " 'char_preds': ['ticket'],\n",
              " 'bpe_preds': ['ticket'],\n",
              " 'wp_preds': ['ticket']}"
            ]
          },
          "metadata": {},
          "execution_count": 46
        }
      ]
    }
  ]
}